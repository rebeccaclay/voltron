{
 "cells": [
  {
   "cell_type": "code",
   "execution_count": 1,
   "metadata": {},
   "outputs": [],
   "source": [
    "import pandas as pd\n",
    "import datadotworld as ddw\n",
    "import re"
   ]
  },
  {
   "cell_type": "code",
   "execution_count": 2,
   "metadata": {},
   "outputs": [],
   "source": [
    "pd.set_option('display.max_rows', 40)\n",
    "pd.set_option('display.max_columns', 500)\n",
    "pd.set_option('display.width', 1000)\n",
    "pd.set_option('max_colwidth', 70)"
   ]
  },
  {
   "cell_type": "markdown",
   "metadata": {},
   "source": [
    "The code in this notebook will parse the `address` column in the `accounts_address` file and create two new columns: `zip_code` and `state_abr`. It uses the python SDK to download the data and to upload the derived data file.\n",
    "\n",
    "### Load the customer info data file from data.world for data cleaning\n",
    "Enter the dataset to download the data from     \n",
    "eg, `dataset = 'ddw-biz-team/guided-eval'`"
   ]
  },
  {
   "cell_type": "code",
   "execution_count": null,
   "metadata": {},
   "outputs": [],
   "source": [
    "# specify location of dataset on data.world\n",
    "dataset = ''"
   ]
  },
  {
   "cell_type": "code",
   "execution_count": 3,
   "metadata": {},
   "outputs": [],
   "source": [
    "# download data\n",
    "customer_data = ddw.load_dataset(dataset, force_update=True)\n",
    "# load data into Python as Pandas dataframe\n",
    "customer_df = customer_data.dataframes['accounts_address']"
   ]
  },
  {
   "cell_type": "code",
   "execution_count": 4,
   "metadata": {},
   "outputs": [
    {
     "name": "stdout",
     "output_type": "stream",
     "text": [
      "dataframe shape:  (97, 4)\n"
     ]
    },
    {
     "data": {
      "text/html": [
       "<div>\n",
       "<style scoped>\n",
       "    .dataframe tbody tr th:only-of-type {\n",
       "        vertical-align: middle;\n",
       "    }\n",
       "\n",
       "    .dataframe tbody tr th {\n",
       "        vertical-align: top;\n",
       "    }\n",
       "\n",
       "    .dataframe thead th {\n",
       "        text-align: right;\n",
       "    }\n",
       "</style>\n",
       "<table border=\"1\" class=\"dataframe\">\n",
       "  <thead>\n",
       "    <tr style=\"text-align: right;\">\n",
       "      <th></th>\n",
       "      <th>account</th>\n",
       "      <th>revenue</th>\n",
       "      <th>employees</th>\n",
       "      <th>address</th>\n",
       "    </tr>\n",
       "  </thead>\n",
       "  <tbody>\n",
       "    <tr>\n",
       "      <th>0</th>\n",
       "      <td>Sunnamplex</td>\n",
       "      <td>4592.96</td>\n",
       "      <td>13938.0</td>\n",
       "      <td>Apt. 209 94528 Carleton Route, Jaidenchester, IL 74994-0588</td>\n",
       "    </tr>\n",
       "    <tr>\n",
       "      <th>1</th>\n",
       "      <td>Silis</td>\n",
       "      <td>5339.57</td>\n",
       "      <td>18053.0</td>\n",
       "      <td>Suite 103 106 Franecki Pines, Port Genesis, IL 28566</td>\n",
       "    </tr>\n",
       "    <tr>\n",
       "      <th>2</th>\n",
       "      <td>Groovestreet</td>\n",
       "      <td>2728.86</td>\n",
       "      <td>6486.0</td>\n",
       "      <td>1647 Auer Views, Dinabury, IL 44654-4387</td>\n",
       "    </tr>\n",
       "  </tbody>\n",
       "</table>\n",
       "</div>"
      ],
      "text/plain": [
       "        account  revenue  employees                                                      address\n",
       "0    Sunnamplex  4592.96    13938.0  Apt. 209 94528 Carleton Route, Jaidenchester, IL 74994-0588\n",
       "1         Silis  5339.57    18053.0         Suite 103 106 Franecki Pines, Port Genesis, IL 28566\n",
       "2  Groovestreet  2728.86     6486.0                     1647 Auer Views, Dinabury, IL 44654-4387"
      ]
     },
     "execution_count": 4,
     "metadata": {},
     "output_type": "execute_result"
    }
   ],
   "source": [
    "print(\"dataframe shape: \", customer_df.shape)\n",
    "# view first 3 rows\n",
    "customer_df.head(3)"
   ]
  },
  {
   "cell_type": "code",
   "execution_count": 5,
   "metadata": {},
   "outputs": [],
   "source": [
    "# parse state abbreviation from address column text\n",
    "customer_df['state_abbr'] = customer_df.address.str.extract(r'((?:\\s)[A-Z]{2}(?:\\s))')\n",
    "customer_df['state_abbr'] = customer_df.state_abbr.str.strip()"
   ]
  },
  {
   "cell_type": "code",
   "execution_count": 6,
   "metadata": {},
   "outputs": [
    {
     "data": {
      "text/html": [
       "<div>\n",
       "<style scoped>\n",
       "    .dataframe tbody tr th:only-of-type {\n",
       "        vertical-align: middle;\n",
       "    }\n",
       "\n",
       "    .dataframe tbody tr th {\n",
       "        vertical-align: top;\n",
       "    }\n",
       "\n",
       "    .dataframe thead th {\n",
       "        text-align: right;\n",
       "    }\n",
       "</style>\n",
       "<table border=\"1\" class=\"dataframe\">\n",
       "  <thead>\n",
       "    <tr style=\"text-align: right;\">\n",
       "      <th></th>\n",
       "      <th>account</th>\n",
       "      <th>revenue</th>\n",
       "      <th>employees</th>\n",
       "      <th>address</th>\n",
       "      <th>state_abbr</th>\n",
       "    </tr>\n",
       "  </thead>\n",
       "  <tbody>\n",
       "    <tr>\n",
       "      <th>0</th>\n",
       "      <td>Sunnamplex</td>\n",
       "      <td>4592.96</td>\n",
       "      <td>13938.0</td>\n",
       "      <td>Apt. 209 94528 Carleton Route, Jaidenchester, IL 74994-0588</td>\n",
       "      <td>IL</td>\n",
       "    </tr>\n",
       "    <tr>\n",
       "      <th>1</th>\n",
       "      <td>Silis</td>\n",
       "      <td>5339.57</td>\n",
       "      <td>18053.0</td>\n",
       "      <td>Suite 103 106 Franecki Pines, Port Genesis, IL 28566</td>\n",
       "      <td>IL</td>\n",
       "    </tr>\n",
       "    <tr>\n",
       "      <th>2</th>\n",
       "      <td>Groovestreet</td>\n",
       "      <td>2728.86</td>\n",
       "      <td>6486.0</td>\n",
       "      <td>1647 Auer Views, Dinabury, IL 44654-4387</td>\n",
       "      <td>IL</td>\n",
       "    </tr>\n",
       "    <tr>\n",
       "      <th>3</th>\n",
       "      <td>Donware</td>\n",
       "      <td>2009.52</td>\n",
       "      <td>3409.0</td>\n",
       "      <td>94578 Tate Springs, Port Betty, IL 03977</td>\n",
       "      <td>IL</td>\n",
       "    </tr>\n",
       "    <tr>\n",
       "      <th>4</th>\n",
       "      <td>Wonka Industries</td>\n",
       "      <td>4962.27</td>\n",
       "      <td>4687.0</td>\n",
       "      <td>Suite 030 4268 Octavia Vista, East Fabianborough, TX 10083-2869</td>\n",
       "      <td>TX</td>\n",
       "    </tr>\n",
       "  </tbody>\n",
       "</table>\n",
       "</div>"
      ],
      "text/plain": [
       "            account  revenue  employees                                                          address state_abbr\n",
       "0        Sunnamplex  4592.96    13938.0      Apt. 209 94528 Carleton Route, Jaidenchester, IL 74994-0588         IL\n",
       "1             Silis  5339.57    18053.0             Suite 103 106 Franecki Pines, Port Genesis, IL 28566         IL\n",
       "2      Groovestreet  2728.86     6486.0                         1647 Auer Views, Dinabury, IL 44654-4387         IL\n",
       "3           Donware  2009.52     3409.0                         94578 Tate Springs, Port Betty, IL 03977         IL\n",
       "4  Wonka Industries  4962.27     4687.0  Suite 030 4268 Octavia Vista, East Fabianborough, TX 10083-2869         TX"
      ]
     },
     "execution_count": 6,
     "metadata": {},
     "output_type": "execute_result"
    }
   ],
   "source": [
    "customer_df.head()"
   ]
  },
  {
   "cell_type": "code",
   "execution_count": 13,
   "metadata": {},
   "outputs": [
    {
     "data": {
      "text/html": [
       "<div>\n",
       "<style scoped>\n",
       "    .dataframe tbody tr th:only-of-type {\n",
       "        vertical-align: middle;\n",
       "    }\n",
       "\n",
       "    .dataframe tbody tr th {\n",
       "        vertical-align: top;\n",
       "    }\n",
       "\n",
       "    .dataframe thead th {\n",
       "        text-align: right;\n",
       "    }\n",
       "</style>\n",
       "<table border=\"1\" class=\"dataframe\">\n",
       "  <thead>\n",
       "    <tr style=\"text-align: right;\">\n",
       "      <th></th>\n",
       "      <th>STATE</th>\n",
       "      <th>ZIPCODE</th>\n",
       "      <th>Number of returns</th>\n",
       "      <th>Adjusted gross income (AGI)</th>\n",
       "      <th>Avg AGI</th>\n",
       "      <th>Number of returns with total income</th>\n",
       "      <th>Total income amount</th>\n",
       "      <th>Avg total income</th>\n",
       "      <th>Number of returns with taxable income</th>\n",
       "      <th>Taxable income amount</th>\n",
       "      <th>Avg taxable income</th>\n",
       "    </tr>\n",
       "  </thead>\n",
       "  <tbody>\n",
       "    <tr>\n",
       "      <th>0</th>\n",
       "      <td>AL</td>\n",
       "      <td>0</td>\n",
       "      <td>2022380</td>\n",
       "      <td>105089761</td>\n",
       "      <td>51.963410</td>\n",
       "      <td>2022380</td>\n",
       "      <td>106420533</td>\n",
       "      <td>52.621433</td>\n",
       "      <td>1468370</td>\n",
       "      <td>67850874</td>\n",
       "      <td>46.208295</td>\n",
       "    </tr>\n",
       "    <tr>\n",
       "      <th>1</th>\n",
       "      <td>AL</td>\n",
       "      <td>35004</td>\n",
       "      <td>4930</td>\n",
       "      <td>255534</td>\n",
       "      <td>51.832454</td>\n",
       "      <td>4930</td>\n",
       "      <td>258024</td>\n",
       "      <td>52.337525</td>\n",
       "      <td>4020</td>\n",
       "      <td>163859</td>\n",
       "      <td>40.760945</td>\n",
       "    </tr>\n",
       "    <tr>\n",
       "      <th>2</th>\n",
       "      <td>AL</td>\n",
       "      <td>35005</td>\n",
       "      <td>3300</td>\n",
       "      <td>128387</td>\n",
       "      <td>38.905152</td>\n",
       "      <td>3300</td>\n",
       "      <td>129390</td>\n",
       "      <td>39.209091</td>\n",
       "      <td>2440</td>\n",
       "      <td>70760</td>\n",
       "      <td>29.000000</td>\n",
       "    </tr>\n",
       "  </tbody>\n",
       "</table>\n",
       "</div>"
      ],
      "text/plain": [
       "  STATE  ZIPCODE  Number of returns  Adjusted gross income (AGI)    Avg AGI  Number of returns with total income  Total income amount  Avg total income  Number of returns with taxable income  Taxable income amount  Avg taxable income\n",
       "0    AL        0            2022380                    105089761  51.963410                              2022380            106420533         52.621433                                1468370               67850874           46.208295\n",
       "1    AL    35004               4930                       255534  51.832454                                 4930               258024         52.337525                                   4020                 163859           40.760945\n",
       "2    AL    35005               3300                       128387  38.905152                                 3300               129390         39.209091                                   2440                  70760           29.000000"
      ]
     },
     "execution_count": 13,
     "metadata": {},
     "output_type": "execute_result"
    }
   ],
   "source": [
    "irs_df.head(3)"
   ]
  },
  {
   "cell_type": "markdown",
   "metadata": {},
   "source": [
    "### Insert \"real\" zip codes\n",
    "\n",
    "This block of code substitutes real zip codes for the fake ones in our fake customer addresses. This will enable us to join on the zip_code column, and demonstrate linked data functionality."
   ]
  },
  {
   "cell_type": "code",
   "execution_count": 7,
   "metadata": {},
   "outputs": [],
   "source": [
    "# randomly select some real zip-codes to replace the \"fake\" zip-codes\n",
    "irs_df = pd.read_csv('https://query.data.world/s/slzbv54vahbxdpfaxhdqirphll2bh2')\n",
    "\n",
    "sample_zips = []\n",
    "for i in range(97):\n",
    "    sample_zips.append(irs_df[irs_df.STATE == customer_df.state_abbr[i]].ZIPCODE.sample(1).values[0])\n",
    "sample_zips = pd.Series(sample_zips).astype(str).str.pad(width=5, fillchar='0')\n",
    "\n",
    "count = 0\n",
    "for i in range(97):\n",
    "    customer_df.loc[i, 'address'] = re.sub(r'(?:\\s|-|\\b)([\\d]{5})(?:\\s)',  \n",
    "                                           \" \" + str(sample_zips[i])[::-1] + \" \", \n",
    "                                           customer_df.loc[i, 'address'][::-1], count=1)[::-1]\n",
    "\n",
    "# parse zip code from address column text\n",
    "customer_df['zip_code'] = customer_df.address.apply(lambda x: str(x).split(','))\n",
    "customer_df['zip_code'] = customer_df.zip_code.apply(lambda x: re.findall(r'(?:\\s)([\\d]{5})(?:\\s|-|\\b)', x[-1] )[0])\n",
    "\n",
    "# look at first 3 rows\n",
    "customer_df.head(3)"
   ]
  },
  {
   "cell_type": "markdown",
   "metadata": {},
   "source": [
    "### upload the transformed dataframe into our project in data.world\n",
    "specify the project to upload the data file to    \n",
    "eg, `project = 'ddw-biz-team/guided-eval-project'`"
   ]
  },
  {
   "cell_type": "code",
   "execution_count": 12,
   "metadata": {},
   "outputs": [],
   "source": [
    "# specify location to upload to (in this case, it's a project)\n",
    "project = ''\n",
    "\n",
    "# upload the dataframe as a csv using the data.world Python library\n",
    "with ddw.open_remote_file(project, 'accounts_parsed.csv', mode='w') as f:\n",
    "    customer_df.to_csv(f, index=False)\n"
   ]
  },
  {
   "cell_type": "code",
   "execution_count": null,
   "metadata": {},
   "outputs": [],
   "source": []
  }
 ],
 "metadata": {
  "kernelspec": {
   "display_name": "Python 3",
   "language": "python",
   "name": "python3"
  },
  "language_info": {
   "codemirror_mode": {
    "name": "ipython",
    "version": 3
   },
   "file_extension": ".py",
   "mimetype": "text/x-python",
   "name": "python",
   "nbconvert_exporter": "python",
   "pygments_lexer": "ipython3",
   "version": "3.6.5"
  },
  "toc": {
   "colors": {
    "hover_highlight": "#DAA520",
    "navigate_num": "#000000",
    "navigate_text": "#333333",
    "running_highlight": "#FF0000",
    "selected_highlight": "#FFD700",
    "sidebar_border": "#EEEEEE",
    "wrapper_background": "#FFFFFF"
   },
   "moveMenuLeft": true,
   "nav_menu": {
    "height": "12px",
    "width": "252px"
   },
   "navigate_menu": true,
   "number_sections": true,
   "sideBar": true,
   "threshold": 4,
   "toc_cell": false,
   "toc_section_display": "block",
   "toc_window_display": false,
   "widenNotebook": false
  },
  "varInspector": {
   "cols": {
    "lenName": 16,
    "lenType": 16,
    "lenVar": 40
   },
   "kernels_config": {
    "python": {
     "delete_cmd_postfix": "",
     "delete_cmd_prefix": "del ",
     "library": "var_list.py",
     "varRefreshCmd": "print(var_dic_list())"
    },
    "r": {
     "delete_cmd_postfix": ") ",
     "delete_cmd_prefix": "rm(",
     "library": "var_list.r",
     "varRefreshCmd": "cat(var_dic_list()) "
    }
   },
   "types_to_exclude": [
    "module",
    "function",
    "builtin_function_or_method",
    "instance",
    "_Feature"
   ],
   "window_display": false
  }
 },
 "nbformat": 4,
 "nbformat_minor": 2
}
